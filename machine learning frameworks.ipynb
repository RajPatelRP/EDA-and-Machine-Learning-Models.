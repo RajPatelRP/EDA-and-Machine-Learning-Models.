{
 "cells": [
  {
   "cell_type": "code",
   "execution_count": 294,
   "id": "97dcdfe6",
   "metadata": {},
   "outputs": [],
   "source": [
    "# importing all the necessary libraries \n",
    "import pandas as pd \n",
    "import numpy as np\n",
    "import seaborn as sns\n",
    "import matplotlib.pyplot as plt\n",
    "from sklearn import metrics\n",
    "\n",
    "# To ignore future warning during implimentation\n",
    "import warnings\n",
    "warnings.simplefilter(action='ignore', category=FutureWarning)\n",
    "sns.set()\n",
    "\n",
    "# To call the train test and split method\n",
    "from sklearn.model_selection import train_test_split\n"
   ]
  },
  {
   "cell_type": "code",
   "execution_count": 295,
   "id": "2ed9cde9",
   "metadata": {},
   "outputs": [],
   "source": [
    "# this was helpful in removing the warnings of max iteration has reached \n",
    "from sklearn.exceptions import ConvergenceWarning\n",
    "simplefilter(\"ignore\", category=ConvergenceWarning)"
   ]
  },
  {
   "cell_type": "code",
   "execution_count": 296,
   "id": "24e22b7c",
   "metadata": {},
   "outputs": [
    {
     "data": {
      "text/html": [
       "<div>\n",
       "<style scoped>\n",
       "    .dataframe tbody tr th:only-of-type {\n",
       "        vertical-align: middle;\n",
       "    }\n",
       "\n",
       "    .dataframe tbody tr th {\n",
       "        vertical-align: top;\n",
       "    }\n",
       "\n",
       "    .dataframe thead th {\n",
       "        text-align: right;\n",
       "    }\n",
       "</style>\n",
       "<table border=\"1\" class=\"dataframe\">\n",
       "  <thead>\n",
       "    <tr style=\"text-align: right;\">\n",
       "      <th></th>\n",
       "      <th>sepal.length</th>\n",
       "      <th>sepal.width</th>\n",
       "      <th>petal.length</th>\n",
       "      <th>petal.width</th>\n",
       "      <th>variety</th>\n",
       "    </tr>\n",
       "  </thead>\n",
       "  <tbody>\n",
       "    <tr>\n",
       "      <th>0</th>\n",
       "      <td>5.1</td>\n",
       "      <td>3.5</td>\n",
       "      <td>1.4</td>\n",
       "      <td>0.2</td>\n",
       "      <td>Setosa</td>\n",
       "    </tr>\n",
       "    <tr>\n",
       "      <th>1</th>\n",
       "      <td>4.9</td>\n",
       "      <td>3.0</td>\n",
       "      <td>1.4</td>\n",
       "      <td>0.2</td>\n",
       "      <td>Setosa</td>\n",
       "    </tr>\n",
       "    <tr>\n",
       "      <th>2</th>\n",
       "      <td>4.7</td>\n",
       "      <td>3.2</td>\n",
       "      <td>1.3</td>\n",
       "      <td>0.2</td>\n",
       "      <td>Setosa</td>\n",
       "    </tr>\n",
       "    <tr>\n",
       "      <th>3</th>\n",
       "      <td>4.6</td>\n",
       "      <td>3.1</td>\n",
       "      <td>1.5</td>\n",
       "      <td>0.2</td>\n",
       "      <td>Setosa</td>\n",
       "    </tr>\n",
       "    <tr>\n",
       "      <th>4</th>\n",
       "      <td>5.0</td>\n",
       "      <td>3.6</td>\n",
       "      <td>1.4</td>\n",
       "      <td>0.2</td>\n",
       "      <td>Setosa</td>\n",
       "    </tr>\n",
       "    <tr>\n",
       "      <th>...</th>\n",
       "      <td>...</td>\n",
       "      <td>...</td>\n",
       "      <td>...</td>\n",
       "      <td>...</td>\n",
       "      <td>...</td>\n",
       "    </tr>\n",
       "    <tr>\n",
       "      <th>145</th>\n",
       "      <td>6.7</td>\n",
       "      <td>3.0</td>\n",
       "      <td>5.2</td>\n",
       "      <td>2.3</td>\n",
       "      <td>Virginica</td>\n",
       "    </tr>\n",
       "    <tr>\n",
       "      <th>146</th>\n",
       "      <td>6.3</td>\n",
       "      <td>2.5</td>\n",
       "      <td>5.0</td>\n",
       "      <td>1.9</td>\n",
       "      <td>Virginica</td>\n",
       "    </tr>\n",
       "    <tr>\n",
       "      <th>147</th>\n",
       "      <td>6.5</td>\n",
       "      <td>3.0</td>\n",
       "      <td>5.2</td>\n",
       "      <td>2.0</td>\n",
       "      <td>Virginica</td>\n",
       "    </tr>\n",
       "    <tr>\n",
       "      <th>148</th>\n",
       "      <td>6.2</td>\n",
       "      <td>3.4</td>\n",
       "      <td>5.4</td>\n",
       "      <td>2.3</td>\n",
       "      <td>Virginica</td>\n",
       "    </tr>\n",
       "    <tr>\n",
       "      <th>149</th>\n",
       "      <td>5.9</td>\n",
       "      <td>3.0</td>\n",
       "      <td>5.1</td>\n",
       "      <td>1.8</td>\n",
       "      <td>Virginica</td>\n",
       "    </tr>\n",
       "  </tbody>\n",
       "</table>\n",
       "<p>150 rows × 5 columns</p>\n",
       "</div>"
      ],
      "text/plain": [
       "     sepal.length  sepal.width  petal.length  petal.width    variety\n",
       "0             5.1          3.5           1.4          0.2     Setosa\n",
       "1             4.9          3.0           1.4          0.2     Setosa\n",
       "2             4.7          3.2           1.3          0.2     Setosa\n",
       "3             4.6          3.1           1.5          0.2     Setosa\n",
       "4             5.0          3.6           1.4          0.2     Setosa\n",
       "..            ...          ...           ...          ...        ...\n",
       "145           6.7          3.0           5.2          2.3  Virginica\n",
       "146           6.3          2.5           5.0          1.9  Virginica\n",
       "147           6.5          3.0           5.2          2.0  Virginica\n",
       "148           6.2          3.4           5.4          2.3  Virginica\n",
       "149           5.9          3.0           5.1          1.8  Virginica\n",
       "\n",
       "[150 rows x 5 columns]"
      ]
     },
     "execution_count": 296,
     "metadata": {},
     "output_type": "execute_result"
    }
   ],
   "source": [
    "# The path to the csv file to succesfully load it into jupyter notebook\n",
    "\n",
    "iris_data = pd.read_csv(\"C:/Users/Raj Patel/Documents/college/machine learning frameworks/iris.csv\")\n",
    "iris_data"
   ]
  },
  {
   "cell_type": "code",
   "execution_count": 297,
   "id": "8dfe4180",
   "metadata": {},
   "outputs": [
    {
     "name": "stdout",
     "output_type": "stream",
     "text": [
      "<class 'pandas.core.frame.DataFrame'>\n",
      "RangeIndex: 150 entries, 0 to 149\n",
      "Data columns (total 5 columns):\n",
      " #   Column        Non-Null Count  Dtype  \n",
      "---  ------        --------------  -----  \n",
      " 0   sepal.length  150 non-null    float64\n",
      " 1   sepal.width   150 non-null    float64\n",
      " 2   petal.length  150 non-null    float64\n",
      " 3   petal.width   150 non-null    float64\n",
      " 4   variety       150 non-null    object \n",
      "dtypes: float64(4), object(1)\n",
      "memory usage: 6.0+ KB\n"
     ]
    }
   ],
   "source": [
    "# To find data-types of all availabel columns in the dataset, here we can observe that only \"variety\" is only column that is in\n",
    "# object data-type, we will convert it to numeric data-type later on. \n",
    "\n",
    "iris_data.info()"
   ]
  },
  {
   "cell_type": "code",
   "execution_count": 298,
   "id": "99616bc6",
   "metadata": {},
   "outputs": [
    {
     "data": {
      "text/html": [
       "<div>\n",
       "<style scoped>\n",
       "    .dataframe tbody tr th:only-of-type {\n",
       "        vertical-align: middle;\n",
       "    }\n",
       "\n",
       "    .dataframe tbody tr th {\n",
       "        vertical-align: top;\n",
       "    }\n",
       "\n",
       "    .dataframe thead th {\n",
       "        text-align: right;\n",
       "    }\n",
       "</style>\n",
       "<table border=\"1\" class=\"dataframe\">\n",
       "  <thead>\n",
       "    <tr style=\"text-align: right;\">\n",
       "      <th></th>\n",
       "      <th>sepal.length</th>\n",
       "      <th>sepal.width</th>\n",
       "      <th>petal.length</th>\n",
       "      <th>petal.width</th>\n",
       "    </tr>\n",
       "  </thead>\n",
       "  <tbody>\n",
       "    <tr>\n",
       "      <th>count</th>\n",
       "      <td>150.000000</td>\n",
       "      <td>150.000000</td>\n",
       "      <td>150.000000</td>\n",
       "      <td>150.000000</td>\n",
       "    </tr>\n",
       "    <tr>\n",
       "      <th>mean</th>\n",
       "      <td>5.843333</td>\n",
       "      <td>3.057333</td>\n",
       "      <td>3.758000</td>\n",
       "      <td>1.199333</td>\n",
       "    </tr>\n",
       "    <tr>\n",
       "      <th>std</th>\n",
       "      <td>0.828066</td>\n",
       "      <td>0.435866</td>\n",
       "      <td>1.765298</td>\n",
       "      <td>0.762238</td>\n",
       "    </tr>\n",
       "    <tr>\n",
       "      <th>min</th>\n",
       "      <td>4.300000</td>\n",
       "      <td>2.000000</td>\n",
       "      <td>1.000000</td>\n",
       "      <td>0.100000</td>\n",
       "    </tr>\n",
       "    <tr>\n",
       "      <th>25%</th>\n",
       "      <td>5.100000</td>\n",
       "      <td>2.800000</td>\n",
       "      <td>1.600000</td>\n",
       "      <td>0.300000</td>\n",
       "    </tr>\n",
       "    <tr>\n",
       "      <th>50%</th>\n",
       "      <td>5.800000</td>\n",
       "      <td>3.000000</td>\n",
       "      <td>4.350000</td>\n",
       "      <td>1.300000</td>\n",
       "    </tr>\n",
       "    <tr>\n",
       "      <th>75%</th>\n",
       "      <td>6.400000</td>\n",
       "      <td>3.300000</td>\n",
       "      <td>5.100000</td>\n",
       "      <td>1.800000</td>\n",
       "    </tr>\n",
       "    <tr>\n",
       "      <th>max</th>\n",
       "      <td>7.900000</td>\n",
       "      <td>4.400000</td>\n",
       "      <td>6.900000</td>\n",
       "      <td>2.500000</td>\n",
       "    </tr>\n",
       "  </tbody>\n",
       "</table>\n",
       "</div>"
      ],
      "text/plain": [
       "       sepal.length  sepal.width  petal.length  petal.width\n",
       "count    150.000000   150.000000    150.000000   150.000000\n",
       "mean       5.843333     3.057333      3.758000     1.199333\n",
       "std        0.828066     0.435866      1.765298     0.762238\n",
       "min        4.300000     2.000000      1.000000     0.100000\n",
       "25%        5.100000     2.800000      1.600000     0.300000\n",
       "50%        5.800000     3.000000      4.350000     1.300000\n",
       "75%        6.400000     3.300000      5.100000     1.800000\n",
       "max        7.900000     4.400000      6.900000     2.500000"
      ]
     },
     "execution_count": 298,
     "metadata": {},
     "output_type": "execute_result"
    }
   ],
   "source": [
    "# Describe is a method to get the all the statistical info about our dataset. \n",
    "# As we can see it gives the mean,standrad deviation as well as minimum and maximum of columns. \n",
    "\n",
    "iris_data.describe()"
   ]
  },
  {
   "cell_type": "code",
   "execution_count": 299,
   "id": "e41f90dc",
   "metadata": {
    "scrolled": true
   },
   "outputs": [
    {
     "data": {
      "text/html": [
       "<div>\n",
       "<style scoped>\n",
       "    .dataframe tbody tr th:only-of-type {\n",
       "        vertical-align: middle;\n",
       "    }\n",
       "\n",
       "    .dataframe tbody tr th {\n",
       "        vertical-align: top;\n",
       "    }\n",
       "\n",
       "    .dataframe thead th {\n",
       "        text-align: right;\n",
       "    }\n",
       "</style>\n",
       "<table border=\"1\" class=\"dataframe\">\n",
       "  <thead>\n",
       "    <tr style=\"text-align: right;\">\n",
       "      <th></th>\n",
       "      <th>sepal.length</th>\n",
       "      <th>sepal.width</th>\n",
       "      <th>petal.length</th>\n",
       "      <th>petal.width</th>\n",
       "    </tr>\n",
       "    <tr>\n",
       "      <th>variety</th>\n",
       "      <th></th>\n",
       "      <th></th>\n",
       "      <th></th>\n",
       "      <th></th>\n",
       "    </tr>\n",
       "  </thead>\n",
       "  <tbody>\n",
       "    <tr>\n",
       "      <th>Setosa</th>\n",
       "      <td>5.006</td>\n",
       "      <td>3.428</td>\n",
       "      <td>1.462</td>\n",
       "      <td>0.246</td>\n",
       "    </tr>\n",
       "    <tr>\n",
       "      <th>Versicolor</th>\n",
       "      <td>5.936</td>\n",
       "      <td>2.770</td>\n",
       "      <td>4.260</td>\n",
       "      <td>1.326</td>\n",
       "    </tr>\n",
       "    <tr>\n",
       "      <th>Virginica</th>\n",
       "      <td>6.588</td>\n",
       "      <td>2.974</td>\n",
       "      <td>5.552</td>\n",
       "      <td>2.026</td>\n",
       "    </tr>\n",
       "  </tbody>\n",
       "</table>\n",
       "</div>"
      ],
      "text/plain": [
       "            sepal.length  sepal.width  petal.length  petal.width\n",
       "variety                                                         \n",
       "Setosa             5.006        3.428         1.462        0.246\n",
       "Versicolor         5.936        2.770         4.260        1.326\n",
       "Virginica          6.588        2.974         5.552        2.026"
      ]
     },
     "execution_count": 299,
     "metadata": {},
     "output_type": "execute_result"
    }
   ],
   "source": [
    "# Here we can get the mean by \"group by\" method \n",
    "\n",
    "iris_data.groupby('variety').mean()"
   ]
  },
  {
   "cell_type": "code",
   "execution_count": 300,
   "id": "03921b1f",
   "metadata": {},
   "outputs": [
    {
     "data": {
      "text/plain": [
       "sepal.length    0\n",
       "sepal.width     0\n",
       "petal.length    0\n",
       "petal.width     0\n",
       "variety         0\n",
       "dtype: int64"
      ]
     },
     "execution_count": 300,
     "metadata": {},
     "output_type": "execute_result"
    }
   ],
   "source": [
    "# \"isnull\" method is used to find that is there any null value in our dataset.\n",
    "#  without sum() method isnull will return value in bolean data-type.\n",
    "# by observation we can see that there is no missing value in our dataset.\n",
    "\n",
    "iris_data.isnull().sum()"
   ]
  },
  {
   "cell_type": "markdown",
   "id": "c766cd84",
   "metadata": {},
   "source": [
    "  here we have plot the the statistical data into chart format. used graph is Histogram.\n",
    "  \n",
    "  hist() is the simplest method to plot histogram.\n",
    "  \n",
    "  By observing below charts it is clear that sepal length and width are normally distributed while petal length and width are     not.\n",
    "  \n",
    "  Also Highest frequency of all features can be observed by this graph. Example: highest frequency of sepal length is between     5.5 to 6.5. "
   ]
  },
  {
   "cell_type": "code",
   "execution_count": 301,
   "id": "fa2049c2",
   "metadata": {},
   "outputs": [
    {
     "data": {
      "text/plain": [
       "<AxesSubplot:>"
      ]
     },
     "execution_count": 301,
     "metadata": {},
     "output_type": "execute_result"
    },
    {
     "data": {
      "image/png": "[encoded data removed]",
      "text/plain": [
       "<Figure size 432x288 with 1 Axes>"
      ]
     },
     "metadata": {},
     "output_type": "display_data"
    }
   ],
   "source": [
    "iris_data['sepal.length'].hist()"
   ]
  },
  {
   "cell_type": "code",
   "execution_count": 302,
   "id": "1f4a7b8a",
   "metadata": {},
   "outputs": [
    {
     "data": {
      "text/plain": [
       "<AxesSubplot:>"
      ]
     },
     "execution_count": 302,
     "metadata": {},
     "output_type": "execute_result"
    },
    {
     "data": {
      "image/png": "[encoded data removed]",
      "text/plain": [
       "<Figure size 432x288 with 1 Axes>"
      ]
     },
     "metadata": {},
     "output_type": "display_data"
    }
   ],
   "source": [
    "iris_data['sepal.width'].hist()"
   ]
  },
  {
   "cell_type": "code",
   "execution_count": 303,
   "id": "012a7939",
   "metadata": {},
   "outputs": [
    {
     "data": {
      "text/plain": [
       "<AxesSubplot:>"
      ]
     },
     "execution_count": 303,
     "metadata": {},
     "output_type": "execute_result"
    },
    {
     "data": {
      "image/png": "[encoded data removed]",
      "text/plain": [
       "<Figure size 432x288 with 1 Axes>"
      ]
     },
     "metadata": {},
     "output_type": "display_data"
    }
   ],
   "source": [
    "iris_data['petal.length'].hist()"
   ]
  },
  {
   "cell_type": "code",
   "execution_count": 304,
   "id": "7520ccd1",
   "metadata": {},
   "outputs": [
    {
     "data": {
      "text/plain": [
       "<AxesSubplot:>"
      ]
     },
     "execution_count": 304,
     "metadata": {},
     "output_type": "execute_result"
    },
    {
     "data": {
      "image/png": "[encoded data removed]",
      "text/plain": [
       "<Figure size 432x288 with 1 Axes>"
      ]
     },
     "metadata": {},
     "output_type": "display_data"
    }
   ],
   "source": [
    "iris_data['petal.width'].hist()"
   ]
  },
  {
   "cell_type": "markdown",
   "id": "76d28d07",
   "metadata": {},
   "source": [
    " Here i have used facetgrid from seaborn library to visualize relation of 'variety' with other features.\n",
    " \n",
    " Observation of below graph:\n",
    " \n",
    " 1) features are very much overlapping each other so we can not use it as effective classification feature\n",
    " 2) It is same as plot 1\n",
    " 3) iris_setosa can be easily seperated from other two \n",
    " 4) Again other values are overlapping but setosa can be easily identify.\n",
    " \n",
    " In hue we tagert which column we want to find relation, palettle : just for color\n"
   ]
  },
  {
   "cell_type": "code",
   "execution_count": 305,
   "id": "f9e4c47a",
   "metadata": {},
   "outputs": [
    {
     "data": {
      "image/png": "[encoded data removed]",
      "text/plain": [
       "<Figure size 592.1x504 with 1 Axes>"
      ]
     },
     "metadata": {},
     "output_type": "display_data"
    },
    {
     "data": {
      "image/png": "[encoded data removed]",
      "text/plain": [
       "<Figure size 592.1x504 with 1 Axes>"
      ]
     },
     "metadata": {},
     "output_type": "display_data"
    },
    {
     "data": {
      "image/png": "[encoded data removed]",
      "text/plain": [
       "<Figure size 592.1x504 with 1 Axes>"
      ]
     },
     "metadata": {},
     "output_type": "display_data"
    },
    {
     "data": {
      "image/png": "[encoded data removed]",
      "text/plain": [
       "<Figure size 592.1x504 with 1 Axes>"
      ]
     },
     "metadata": {},
     "output_type": "display_data"
    }
   ],
   "source": [
    "sns.FacetGrid(iris_data, hue=\"variety\", palette='PuRd', height=7).map(sns.distplot, \"sepal.length\").add_legend()\n",
    "\n",
    "sns.FacetGrid(iris_data, hue=\"variety\", palette='PuRd' ,height=7).map(sns.distplot, \"sepal.width\").add_legend()\n",
    "\n",
    "sns.FacetGrid(iris_data, hue=\"variety\", palette='PuRd', height=7).map(sns.distplot, \"petal.width\").add_legend()\n",
    "\n",
    "sns.FacetGrid(iris_data, hue=\"variety\",palette='PuRd', height=7).map(sns.distplot, \"petal.length\").add_legend()\n",
    "\n",
    "plt.show()"
   ]
  },
  {
   "cell_type": "markdown",
   "id": "e81d237f",
   "metadata": {},
   "source": [
    "\n",
    "\n",
    "\n",
    "\n",
    " Above we have seen the visulization of data from now we are implimenting the statistical approach to clean data and build the     \n",
    " model.\n",
    " \n",
    " i just reupload the dataset just to seperate EDA and Implementation part \n",
    " \n",
    " \n",
    " \n",
    " "
   ]
  },
  {
   "cell_type": "code",
   "execution_count": 306,
   "id": "6ed20d0a",
   "metadata": {},
   "outputs": [
    {
     "data": {
      "text/html": [
       "<div>\n",
       "<style scoped>\n",
       "    .dataframe tbody tr th:only-of-type {\n",
       "        vertical-align: middle;\n",
       "    }\n",
       "\n",
       "    .dataframe tbody tr th {\n",
       "        vertical-align: top;\n",
       "    }\n",
       "\n",
       "    .dataframe thead th {\n",
       "        text-align: right;\n",
       "    }\n",
       "</style>\n",
       "<table border=\"1\" class=\"dataframe\">\n",
       "  <thead>\n",
       "    <tr style=\"text-align: right;\">\n",
       "      <th></th>\n",
       "      <th>sepal.length</th>\n",
       "      <th>sepal.width</th>\n",
       "      <th>petal.length</th>\n",
       "      <th>petal.width</th>\n",
       "      <th>variety</th>\n",
       "    </tr>\n",
       "  </thead>\n",
       "  <tbody>\n",
       "    <tr>\n",
       "      <th>0</th>\n",
       "      <td>5.1</td>\n",
       "      <td>3.5</td>\n",
       "      <td>1.4</td>\n",
       "      <td>0.2</td>\n",
       "      <td>Setosa</td>\n",
       "    </tr>\n",
       "    <tr>\n",
       "      <th>1</th>\n",
       "      <td>4.9</td>\n",
       "      <td>3.0</td>\n",
       "      <td>1.4</td>\n",
       "      <td>0.2</td>\n",
       "      <td>Setosa</td>\n",
       "    </tr>\n",
       "    <tr>\n",
       "      <th>2</th>\n",
       "      <td>4.7</td>\n",
       "      <td>3.2</td>\n",
       "      <td>1.3</td>\n",
       "      <td>0.2</td>\n",
       "      <td>Setosa</td>\n",
       "    </tr>\n",
       "    <tr>\n",
       "      <th>3</th>\n",
       "      <td>4.6</td>\n",
       "      <td>3.1</td>\n",
       "      <td>1.5</td>\n",
       "      <td>0.2</td>\n",
       "      <td>Setosa</td>\n",
       "    </tr>\n",
       "    <tr>\n",
       "      <th>4</th>\n",
       "      <td>5.0</td>\n",
       "      <td>3.6</td>\n",
       "      <td>1.4</td>\n",
       "      <td>0.2</td>\n",
       "      <td>Setosa</td>\n",
       "    </tr>\n",
       "    <tr>\n",
       "      <th>...</th>\n",
       "      <td>...</td>\n",
       "      <td>...</td>\n",
       "      <td>...</td>\n",
       "      <td>...</td>\n",
       "      <td>...</td>\n",
       "    </tr>\n",
       "    <tr>\n",
       "      <th>145</th>\n",
       "      <td>6.7</td>\n",
       "      <td>3.0</td>\n",
       "      <td>5.2</td>\n",
       "      <td>2.3</td>\n",
       "      <td>Virginica</td>\n",
       "    </tr>\n",
       "    <tr>\n",
       "      <th>146</th>\n",
       "      <td>6.3</td>\n",
       "      <td>2.5</td>\n",
       "      <td>5.0</td>\n",
       "      <td>1.9</td>\n",
       "      <td>Virginica</td>\n",
       "    </tr>\n",
       "    <tr>\n",
       "      <th>147</th>\n",
       "      <td>6.5</td>\n",
       "      <td>3.0</td>\n",
       "      <td>5.2</td>\n",
       "      <td>2.0</td>\n",
       "      <td>Virginica</td>\n",
       "    </tr>\n",
       "    <tr>\n",
       "      <th>148</th>\n",
       "      <td>6.2</td>\n",
       "      <td>3.4</td>\n",
       "      <td>5.4</td>\n",
       "      <td>2.3</td>\n",
       "      <td>Virginica</td>\n",
       "    </tr>\n",
       "    <tr>\n",
       "      <th>149</th>\n",
       "      <td>5.9</td>\n",
       "      <td>3.0</td>\n",
       "      <td>5.1</td>\n",
       "      <td>1.8</td>\n",
       "      <td>Virginica</td>\n",
       "    </tr>\n",
       "  </tbody>\n",
       "</table>\n",
       "<p>150 rows × 5 columns</p>\n",
       "</div>"
      ],
      "text/plain": [
       "     sepal.length  sepal.width  petal.length  petal.width    variety\n",
       "0             5.1          3.5           1.4          0.2     Setosa\n",
       "1             4.9          3.0           1.4          0.2     Setosa\n",
       "2             4.7          3.2           1.3          0.2     Setosa\n",
       "3             4.6          3.1           1.5          0.2     Setosa\n",
       "4             5.0          3.6           1.4          0.2     Setosa\n",
       "..            ...          ...           ...          ...        ...\n",
       "145           6.7          3.0           5.2          2.3  Virginica\n",
       "146           6.3          2.5           5.0          1.9  Virginica\n",
       "147           6.5          3.0           5.2          2.0  Virginica\n",
       "148           6.2          3.4           5.4          2.3  Virginica\n",
       "149           5.9          3.0           5.1          1.8  Virginica\n",
       "\n",
       "[150 rows x 5 columns]"
      ]
     },
     "execution_count": 306,
     "metadata": {},
     "output_type": "execute_result"
    }
   ],
   "source": [
    "ird = pd.read_csv('C:/Users/Raj Patel/Documents/college/machine learning frameworks/iris.csv')\n",
    "ird"
   ]
  },
  {
   "cell_type": "code",
   "execution_count": 307,
   "id": "734facf6",
   "metadata": {},
   "outputs": [],
   "source": [
    "# As instructed we have to convert taget variable into numeric datatype. for that i have used the label encoding method.\n",
    "from sklearn.preprocessing import LabelEncoder"
   ]
  },
  {
   "cell_type": "code",
   "execution_count": 308,
   "id": "0e1b2369",
   "metadata": {},
   "outputs": [],
   "source": [
    "encoding = ird['variety'].unique()         #for the unique values in column variety in our case we have three \n",
    "encoder = LabelEncoder()                   # calling the labelencoder method via object/instance\n",
    "ird['variety'] = encoder.fit_transform(ird['variety'])  # with the help from fit_transform method we convert values\n",
    "encoded = encoder.transform(encoding)   "
   ]
  },
  {
   "cell_type": "code",
   "execution_count": 309,
   "id": "b7cc0522",
   "metadata": {},
   "outputs": [
    {
     "data": {
      "text/plain": [
       "<bound method Series.info of 0      0\n",
       "1      0\n",
       "2      0\n",
       "3      0\n",
       "4      0\n",
       "      ..\n",
       "145    2\n",
       "146    2\n",
       "147    2\n",
       "148    2\n",
       "149    2\n",
       "Name: variety, Length: 150, dtype: int32>"
      ]
     },
     "execution_count": 309,
     "metadata": {},
     "output_type": "execute_result"
    }
   ],
   "source": [
    "# here it can be seen that now 'variety' column has numerical values.\n",
    "ird['variety'].info "
   ]
  },
  {
   "cell_type": "markdown",
   "id": "5d0f03e7",
   "metadata": {},
   "source": [
    " \n",
    " \n",
    " Now we are going to split our dataset in to three different part.\n",
    " 1) train \n",
    " 2) validation \n",
    " 3) test\n",
    " we will use 'sepal.length''sepal.width''prtal.length''petal.width' for training phase.\n",
    " \n",
    " for spliting dataset into three part we have to do following things \n",
    " 1) first split dataset into two parts(train and test)\n",
    " 2) then split the second half of dataset into two parts(validaton and test) \n",
    " \n",
    " "
   ]
  },
  {
   "cell_type": "code",
   "execution_count": 310,
   "id": "354b6976",
   "metadata": {},
   "outputs": [],
   "source": [
    "train = ird.drop('variety', axis=1)  # by drop method we can seperate the 'variety' column for testing.\n",
    "                                    #  so now train will hold the other four columns\n",
    "test = ird['variety']              # assigning 'variety' column to test instance\n",
    "\n",
    "# here first spliting datasets into two parts( train = 60 and test = 40 ) ->X1 or y1 name for 60-20-20 just for easinees to reuse it\n",
    "X1_train,X1_test,y1_train,y1_test = train_test_split(train,test,test_size = 0.4,random_state=42) \n",
    "# now spliting the dataset into two parts again (validation = 20 and test = 20)\n",
    "X1_test,X1_val,y1_test,y1_val = train_test_split(X1_test,y1_test,test_size = 0.5,random_state=42)"
   ]
  },
  {
   "cell_type": "code",
   "execution_count": 311,
   "id": "bebb3d91",
   "metadata": {},
   "outputs": [
    {
     "name": "stdout",
     "output_type": "stream",
     "text": [
      "(90, 4) (90,)\n"
     ]
    }
   ],
   "source": [
    "print(X1_train.shape,y1_train.shape) #60% of data"
   ]
  },
  {
   "cell_type": "code",
   "execution_count": 312,
   "id": "1b034732",
   "metadata": {},
   "outputs": [
    {
     "name": "stdout",
     "output_type": "stream",
     "text": [
      "(30, 4) (30,)\n"
     ]
    }
   ],
   "source": [
    "print(X1_val.shape,y1_val.shape)    #20% of data"
   ]
  },
  {
   "cell_type": "code",
   "execution_count": 313,
   "id": "46a8c6dc",
   "metadata": {},
   "outputs": [
    {
     "name": "stdout",
     "output_type": "stream",
     "text": [
      "(30, 4) (30,)\n"
     ]
    }
   ],
   "source": [
    "print(X1_test.shape,y1_test.shape)  #20% of data"
   ]
  },
  {
   "cell_type": "markdown",
   "id": "dff99bf7",
   "metadata": {},
   "source": [
    "\n",
    "\n",
    "^ Above three statements are proof that our dataset has been divided into three parts.\n",
    "\n"
   ]
  },
  {
   "cell_type": "code",
   "execution_count": 314,
   "id": "85d3b044",
   "metadata": {},
   "outputs": [],
   "source": [
    "from sklearn.ensemble import RandomForestClassifier   #importing Randomforest Algorithm\n",
    "from sklearn.linear_model import LogisticRegression   #importing LogisticRegression Algorithm\n",
    "from sklearn.model_selection import cross_val_score   \n",
    "# To call Gridsearchcv \n",
    "from sklearn.model_selection import GridSearchCV\n",
    "from sklearn.metrics import accuracy_score, precision_score, recall_score  \n",
    "# accuracy_score , precision_score and recall_score method to measure accuracy, precision and recall\n",
    "\n",
    "\n"
   ]
  },
  {
   "cell_type": "code",
   "execution_count": 360,
   "id": "4d227a3b",
   "metadata": {},
   "outputs": [],
   "source": [
    "#defining the function for printing the Best parameters\n",
    "def print_hyperparameters(parameters):  \n",
    "    print('optimal parameters are: {}\\n'.format(parameters.best_params_))\n",
    "    \n",
    "    mean = parameters.cv_results_['mean_test_score']\n",
    "    std = parameters.cv_results_['std_test_score']\n",
    "    for m, s, p in zip(mean, std, parameters.cv_results_['params']):\n",
    "        print('{} (+/-{}) hyperparameter for {}'.format(round(m, 4), round(s * 2, 4), p))"
   ]
  },
  {
   "cell_type": "code",
   "execution_count": 349,
   "id": "a0addd0d",
   "metadata": {},
   "outputs": [
    {
     "name": "stdout",
     "output_type": "stream",
     "text": [
      "Best parameters are: {'C': 100}\n",
      "\n",
      "0.4322 (+/-0.2519) hyperparameter for {'C': 0.0001}\n",
      "0.6996 (+/-0.21) hyperparameter for {'C': 0.001}\n",
      "0.8434 (+/-0.2366) hyperparameter for {'C': 0.01}\n",
      "0.9112 (+/-0.2084) hyperparameter for {'C': 0.1}\n",
      "0.9441 (+/-0.2135) hyperparameter for {'C': 1}\n",
      "0.9441 (+/-0.1591) hyperparameter for {'C': 10}\n",
      "0.9451 (+/-0.2131) hyperparameter for {'C': 100}\n",
      "0.9341 (+/-0.2085) hyperparameter for {'C': 1000}\n"
     ]
    }
   ],
   "source": [
    "# calling logistic regression pre-defined method to impliment it \n",
    "l_regression = LogisticRegression()\n",
    "# defining testing parameters to check\n",
    "\n",
    "testing_params = {\n",
    "     'C': [0.0001,0.001, 0.01, 0.1, 1, 10, 100, 1000]\n",
    "            }\n",
    "\n",
    "#  assigning gridsearchcv method to it's instance \n",
    "#  grid_cv_lr1 is an instance for 60-20-20 dataset\n",
    "# here i have defined cv=7 that means it's 7 fold cross validation\n",
    "grid_cv_lr1 = GridSearchCV(l_regression, testing_params, cv=7, scoring='accuracy')\n",
    "grid_cv_lr1.fit(X1_train, y1_train.values.ravel())    # here .values.ravel() used to conver column to array\n",
    "\n",
    "print_hyperparameters(grid_cv_lr1)"
   ]
  },
  {
   "cell_type": "code",
   "execution_count": 358,
   "id": "d1f92d54",
   "metadata": {},
   "outputs": [
    {
     "name": "stdout",
     "output_type": "stream",
     "text": [
      "best hyperparameter: {'C': 100}\n",
      "Accuracy: 0.945054945054945\n"
     ]
    }
   ],
   "source": [
    "print('best hyperparameter:',grid_cv_lr1.best_params_) \n",
    "print('Accuracy:', grid_cv_lr1.best_score_)  #accuracy for logistic regression "
   ]
  },
  {
   "cell_type": "code",
   "execution_count": 353,
   "id": "9f1ff03f",
   "metadata": {},
   "outputs": [
    {
     "name": "stdout",
     "output_type": "stream",
     "text": [
      "Accuracy: 1.0\n",
      "Precision: 1.0\n",
      "Recall: 1.0\n"
     ]
    }
   ],
   "source": [
    "l_regression.fit(X1_train,y1_train)   #fitting the method \n",
    "prediction = l_regression.predict(X1_test) # predicting on the test set"
   ]
  },
  {
   "cell_type": "code",
   "execution_count": 405,
   "id": "e94612a9",
   "metadata": {},
   "outputs": [
    {
     "name": "stdout",
     "output_type": "stream",
     "text": [
      "1.0\n"
     ]
    }
   ],
   "source": [
    "Accuracy = accuracy_score(y1_test, prediction)      #measuring accuracy\n",
    "print(Accuracy)"
   ]
  },
  {
   "cell_type": "code",
   "execution_count": 407,
   "id": "d64777b7",
   "metadata": {},
   "outputs": [
    {
     "name": "stdout",
     "output_type": "stream",
     "text": [
      "1.0\n"
     ]
    }
   ],
   "source": [
    "Precision = precision_score(y1_test,prediction,average='micro') #measuring precision\n",
    "print(Precision)"
   ]
  },
  {
   "cell_type": "code",
   "execution_count": 408,
   "id": "1babb3c9",
   "metadata": {},
   "outputs": [
    {
     "name": "stdout",
     "output_type": "stream",
     "text": [
      "1.0\n"
     ]
    }
   ],
   "source": [
    "Recall = recall_score(y1_test,prediction, average= 'micro') #measuring recall\n",
    "print(Recall)"
   ]
  },
  {
   "cell_type": "code",
   "execution_count": null,
   "id": "2ba15e2c",
   "metadata": {},
   "outputs": [],
   "source": [
    "\n",
    "\n",
    "Support vector machine\n",
    "\n"
   ]
  },
  {
   "cell_type": "code",
   "execution_count": 320,
   "id": "1c0a6553",
   "metadata": {},
   "outputs": [],
   "source": [
    "from sklearn.svm import SVC"
   ]
  },
  {
   "cell_type": "code",
   "execution_count": 355,
   "id": "28e26c21",
   "metadata": {},
   "outputs": [
    {
     "name": "stdout",
     "output_type": "stream",
     "text": [
      "Best parameters are: {'C': 0.1, 'kernel': 'linear'}\n",
      "\n",
      "0.9432 (+/-0.1558) hyperparameter for {'C': 0.1, 'kernel': 'linear'}\n",
      "0.8201 (+/-0.1619) hyperparameter for {'C': 0.1, 'kernel': 'rbf'}\n",
      "0.9432 (+/-0.1558) hyperparameter for {'C': 1, 'kernel': 'linear'}\n",
      "0.9432 (+/-0.1558) hyperparameter for {'C': 1, 'kernel': 'rbf'}\n",
      "0.8987 (+/-0.2309) hyperparameter for {'C': 10, 'kernel': 'linear'}\n",
      "0.9328 (+/-0.1503) hyperparameter for {'C': 10, 'kernel': 'rbf'}\n"
     ]
    }
   ],
   "source": [
    "support_vector_machine = SVC()     #method for Support vector Machine\n",
    "parameters = { \n",
    "    'kernel': ['linear', 'rbf'],\n",
    "    'C': [0.1, 1, 10]\n",
    "}\n",
    "\n",
    "grid_cv_svm1 = GridSearchCV(support_vector_machine, parameters, cv=8)   \n",
    "grid_cv_svm1.fit(X1_train, y1_train.values.ravel())                            #fitting the gridsearch method\n",
    "\n",
    "print_hyperparameters(grid_cv_svm1)      #below we printed the best parameters"
   ]
  },
  {
   "cell_type": "code",
   "execution_count": 356,
   "id": "3ecaa7ce",
   "metadata": {},
   "outputs": [
    {
     "name": "stdout",
     "output_type": "stream",
     "text": [
      "Tuned Hyperparameters : {'C': 0.1, 'kernel': 'linear'}\n",
      "Accuracy : 0.9431818181818182\n"
     ]
    }
   ],
   "source": [
    "print(\"Tuned Hyperparameters :\", grid_cv_svm1.best_params_)  # selected best hyperparameter\n",
    "print(\"Accuracy :\",grid_cv_svm1.best_score_)                 # Accuracy score"
   ]
  },
  {
   "cell_type": "code",
   "execution_count": 404,
   "id": "a663c81a",
   "metadata": {},
   "outputs": [],
   "source": [
    "support_vector_machine.fit(X1_train,y1_train)          #fitting the svm on training dataset \n",
    "prediction = support_vector_machine.predict(X1_test)   # predicting the model on X_test dataset\n"
   ]
  },
  {
   "cell_type": "code",
   "execution_count": 403,
   "id": "4f377ff6",
   "metadata": {},
   "outputs": [
    {
     "name": "stdout",
     "output_type": "stream",
     "text": [
      "1.0\n"
     ]
    }
   ],
   "source": [
    "Accuracy =  accuracy_score(y1_test,prediction)\n",
    "print(Accuracy)"
   ]
  },
  {
   "cell_type": "code",
   "execution_count": 401,
   "id": "3f245d02",
   "metadata": {},
   "outputs": [
    {
     "name": "stdout",
     "output_type": "stream",
     "text": [
      "1.0\n"
     ]
    }
   ],
   "source": [
    "\n",
    "Precision = precision_score(y1_test,prediction,average='micro')  #here i have to include the average 'micro' because it was \n",
    "                                                                #showing me the error that target is multicalss but average is binary\n",
    "print(Precision)    "
   ]
  },
  {
   "cell_type": "code",
   "execution_count": 402,
   "id": "3d5aa0cc",
   "metadata": {},
   "outputs": [
    {
     "name": "stdout",
     "output_type": "stream",
     "text": [
      "1.0\n"
     ]
    }
   ],
   "source": [
    "Recall = recall_score(y1_test,prediction, average='micro')\n",
    "print(Recall)"
   ]
  },
  {
   "cell_type": "code",
   "execution_count": null,
   "id": "0dd3a481",
   "metadata": {},
   "outputs": [],
   "source": [
    "\n",
    "\n",
    "Random Forest Classifier\n",
    "\n"
   ]
  },
  {
   "cell_type": "code",
   "execution_count": 325,
   "id": "908d840d",
   "metadata": {},
   "outputs": [],
   "source": [
    "from sklearn.ensemble import RandomForestClassifier\n",
    "#importing the random forest classifier model"
   ]
  },
  {
   "cell_type": "code",
   "execution_count": 365,
   "id": "4e012440",
   "metadata": {},
   "outputs": [
    {
     "name": "stdout",
     "output_type": "stream",
     "text": [
      "optimal parameters are: {'max_depth': 5, 'n_estimators': 5}\n",
      "\n",
      "0.9332 (+/-0.1526) hyperparameter for {'max_depth': 2, 'n_estimators': 5}\n",
      "0.9222 (+/-0.1425) hyperparameter for {'max_depth': 2, 'n_estimators': 20}\n",
      "0.9112 (+/-0.1914) hyperparameter for {'max_depth': 2, 'n_estimators': 30}\n",
      "0.9332 (+/-0.2087) hyperparameter for {'max_depth': 2, 'n_estimators': 100}\n",
      "0.9451 (+/-0.1585) hyperparameter for {'max_depth': 5, 'n_estimators': 5}\n",
      "0.9332 (+/-0.2087) hyperparameter for {'max_depth': 5, 'n_estimators': 20}\n",
      "0.9222 (+/-0.2015) hyperparameter for {'max_depth': 5, 'n_estimators': 30}\n",
      "0.9222 (+/-0.2015) hyperparameter for {'max_depth': 5, 'n_estimators': 100}\n",
      "0.9112 (+/-0.1914) hyperparameter for {'max_depth': 10, 'n_estimators': 5}\n",
      "0.9222 (+/-0.2015) hyperparameter for {'max_depth': 10, 'n_estimators': 20}\n",
      "0.9112 (+/-0.1914) hyperparameter for {'max_depth': 10, 'n_estimators': 30}\n",
      "0.9332 (+/-0.2087) hyperparameter for {'max_depth': 10, 'n_estimators': 100}\n",
      "0.9112 (+/-0.1914) hyperparameter for {'max_depth': None, 'n_estimators': 5}\n",
      "0.9112 (+/-0.1914) hyperparameter for {'max_depth': None, 'n_estimators': 20}\n",
      "0.9002 (+/-0.1782) hyperparameter for {'max_depth': None, 'n_estimators': 30}\n",
      "0.9222 (+/-0.2015) hyperparameter for {'max_depth': None, 'n_estimators': 100}\n"
     ]
    }
   ],
   "source": [
    "random_forest = RandomForestClassifier()   #creating the object/instance for Random forest\n",
    "parameters = {\n",
    "    'n_estimators': [5, 20, 30, 100],   #number of trees in the forest \n",
    "    'max_depth': [2,5,10, None]     #maximum number of level in each tree\n",
    "}\n",
    "\n",
    "grid_cv_rf1 = GridSearchCV(random_forest, parameters, cv=7)  \n",
    "grid_cv_rf1.fit(X1_train, y1_train.values.ravel())\n",
    "\n",
    "print_hyperparameters(grid_cv_rf1)\n",
    "#printing the bestparameters "
   ]
  },
  {
   "cell_type": "code",
   "execution_count": 366,
   "id": "f338f559",
   "metadata": {},
   "outputs": [
    {
     "name": "stdout",
     "output_type": "stream",
     "text": [
      "Tuned Hyperparameters : {'max_depth': 5, 'n_estimators': 5}\n",
      "Accuracy : 0.9450549450549451\n"
     ]
    }
   ],
   "source": [
    "print(\"Tuned Hyperparameters :\", grid_cv_rf1.best_params_)\n",
    "print(\"Accuracy :\",grid_cv_rf1.best_score_)         "
   ]
  },
  {
   "cell_type": "code",
   "execution_count": 400,
   "id": "30a876f5",
   "metadata": {},
   "outputs": [],
   "source": [
    "random_forest.fit(X1_train,y1_train)   #again same procedure for random forest--> fitting the model on training dataset \n",
    "prediction = random_forest.predict(X1_test)       # predicting thee model \n"
   ]
  },
  {
   "cell_type": "code",
   "execution_count": 395,
   "id": "f6661492",
   "metadata": {},
   "outputs": [
    {
     "name": "stdout",
     "output_type": "stream",
     "text": [
      "1.0\n"
     ]
    }
   ],
   "source": [
    "Accuracy =  accuracy_score(y1_test,prediction)\n",
    "print(Accuracy)"
   ]
  },
  {
   "cell_type": "code",
   "execution_count": 397,
   "id": "18170bd3",
   "metadata": {},
   "outputs": [
    {
     "name": "stdout",
     "output_type": "stream",
     "text": [
      "1.0\n"
     ]
    }
   ],
   "source": [
    "Precision = precision_score(y1_test,prediction, average='micro')\n",
    "print(Precision)"
   ]
  },
  {
   "cell_type": "code",
   "execution_count": 399,
   "id": "12de961c",
   "metadata": {},
   "outputs": [
    {
     "name": "stdout",
     "output_type": "stream",
     "text": [
      "1.0\n"
     ]
    }
   ],
   "source": [
    "Recall = recall_score(y1_test,prediction, average='micro')\n",
    "print(Recall)"
   ]
  },
  {
   "cell_type": "markdown",
   "id": "5e6d8156",
   "metadata": {},
   "source": [
    "\n",
    "\n",
    "Above we saw dataset split into 60-20-20\n",
    "\n",
    "Now we are going to do same procedure for spliting the dataset into 80-10-10 ratio\n",
    "\n"
   ]
  },
  {
   "cell_type": "code",
   "execution_count": 368,
   "id": "39622fb5",
   "metadata": {},
   "outputs": [],
   "source": [
    "X2_train,X2_test,y2_train,y2_test = train_test_split(train,test,test_size = 0.2,random_state=42) \n",
    "# now spliting the dataset into two parts again (validation = 10 and test = 10)\n",
    "X2_test,X2_val,y2_test,y2_val = train_test_split(X2_test,y2_test,test_size = 0.5,random_state=42)"
   ]
  },
  {
   "cell_type": "code",
   "execution_count": 370,
   "id": "3c0b629c",
   "metadata": {},
   "outputs": [
    {
     "name": "stdout",
     "output_type": "stream",
     "text": [
      "(120, 4) (120,)\n"
     ]
    }
   ],
   "source": [
    "print(X2_train.shape,y2_train.shape)"
   ]
  },
  {
   "cell_type": "code",
   "execution_count": 372,
   "id": "82240bd2",
   "metadata": {},
   "outputs": [
    {
     "name": "stdout",
     "output_type": "stream",
     "text": [
      "(15, 4) (15,)\n"
     ]
    }
   ],
   "source": [
    "print(X2_val.shape,y2_val.shape)"
   ]
  },
  {
   "cell_type": "code",
   "execution_count": 371,
   "id": "c1534a4d",
   "metadata": {},
   "outputs": [
    {
     "name": "stdout",
     "output_type": "stream",
     "text": [
      "(15, 4) (15,)\n"
     ]
    }
   ],
   "source": [
    "print(X2_test.shape,y2_test.shape)"
   ]
  },
  {
   "cell_type": "code",
   "execution_count": 373,
   "id": "576735d6",
   "metadata": {},
   "outputs": [
    {
     "name": "stdout",
     "output_type": "stream",
     "text": [
      "optimal parameters are: {'C': 1}\n",
      "\n",
      "0.45 (+/-0.2325) hyperparameter for {'C': 0.0001}\n",
      "0.8665 (+/-0.1964) hyperparameter for {'C': 0.001}\n",
      "0.8763 (+/-0.2238) hyperparameter for {'C': 0.01}\n",
      "0.9496 (+/-0.1714) hyperparameter for {'C': 0.1}\n",
      "0.9664 (+/-0.1235) hyperparameter for {'C': 1}\n",
      "0.9416 (+/-0.1541) hyperparameter for {'C': 10}\n",
      "0.95 (+/-0.1594) hyperparameter for {'C': 100}\n",
      "0.95 (+/-0.1594) hyperparameter for {'C': 1000}\n"
     ]
    }
   ],
   "source": [
    "log_regression = LogisticRegression()\n",
    "# defining testing parameters to check\n",
    "\n",
    "testing_params = {\n",
    "    'C': [0.0001,0.001, 0.01, 0.1, 1, 10, 100, 1000]\n",
    "            }\n",
    "\n",
    "# gridsearchcv method\n",
    "grid_cv_lr2 = GridSearchCV(log_regression, testing_params, cv=7) \n",
    "grid_cv_lr2.fit(X2_train, y2_train.values.ravel())\n",
    "\n",
    "print_hyperparameters(grid_cv_lr2)"
   ]
  },
  {
   "cell_type": "code",
   "execution_count": 374,
   "id": "aec3ee5a",
   "metadata": {},
   "outputs": [
    {
     "name": "stdout",
     "output_type": "stream",
     "text": [
      "best parameters: {'C': 1}\n",
      "accuracy: 0.9663865546218487\n"
     ]
    }
   ],
   "source": [
    "print(\"best parameters:\", grid_cv_lr2.best_params_)\n",
    "print(\"accuracy:\", grid_cv_lr2.best_score_)"
   ]
  },
  {
   "cell_type": "code",
   "execution_count": 375,
   "id": "d458528d",
   "metadata": {},
   "outputs": [],
   "source": [
    "log_regression.fit(X2_train,y2_train)\n",
    "prediction = log_regression.predict(X2_test)"
   ]
  },
  {
   "cell_type": "code",
   "execution_count": 376,
   "id": "25df2413",
   "metadata": {},
   "outputs": [
    {
     "name": "stdout",
     "output_type": "stream",
     "text": [
      "Accuracy: 1.0\n"
     ]
    }
   ],
   "source": [
    "print(\"Accuracy:\",accuracy_score(y2_test,prediction))"
   ]
  },
  {
   "cell_type": "code",
   "execution_count": 378,
   "id": "6af52d59",
   "metadata": {},
   "outputs": [
    {
     "name": "stdout",
     "output_type": "stream",
     "text": [
      "precision: 1.0\n"
     ]
    }
   ],
   "source": [
    "print(\"precision:\", precision_score(y2_test,prediction, average=\"micro\"))"
   ]
  },
  {
   "cell_type": "code",
   "execution_count": 379,
   "id": "a5206c68",
   "metadata": {},
   "outputs": [
    {
     "name": "stdout",
     "output_type": "stream",
     "text": [
      "recall: 1.0\n"
     ]
    }
   ],
   "source": [
    "print(\"recall:\", recall_score(y2_test,prediction, average=\"micro\"))"
   ]
  },
  {
   "cell_type": "code",
   "execution_count": null,
   "id": "3c1a38db",
   "metadata": {},
   "outputs": [],
   "source": [
    "\n",
    "\n",
    "RandomForestClassifier\n",
    "\n"
   ]
  },
  {
   "cell_type": "code",
   "execution_count": 380,
   "id": "7a74165b",
   "metadata": {},
   "outputs": [
    {
     "name": "stdout",
     "output_type": "stream",
     "text": [
      "optimal parameters are: {'max_depth': None, 'n_estimators': 20}\n",
      "\n",
      "0.9248 (+/-0.1962) hyperparameter for {'max_depth': 5, 'n_estimators': 5}\n",
      "0.9332 (+/-0.1932) hyperparameter for {'max_depth': 5, 'n_estimators': 10}\n",
      "0.9332 (+/-0.1932) hyperparameter for {'max_depth': 5, 'n_estimators': 15}\n",
      "0.9332 (+/-0.1932) hyperparameter for {'max_depth': 5, 'n_estimators': 20}\n",
      "0.9412 (+/-0.2086) hyperparameter for {'max_depth': 10, 'n_estimators': 5}\n",
      "0.9416 (+/-0.1541) hyperparameter for {'max_depth': 10, 'n_estimators': 10}\n",
      "0.9332 (+/-0.1466) hyperparameter for {'max_depth': 10, 'n_estimators': 15}\n",
      "0.95 (+/-0.1594) hyperparameter for {'max_depth': 10, 'n_estimators': 20}\n",
      "0.9248 (+/-0.1962) hyperparameter for {'max_depth': 20, 'n_estimators': 5}\n",
      "0.95 (+/-0.1594) hyperparameter for {'max_depth': 20, 'n_estimators': 10}\n",
      "0.9416 (+/-0.1541) hyperparameter for {'max_depth': 20, 'n_estimators': 15}\n",
      "0.9416 (+/-0.1541) hyperparameter for {'max_depth': 20, 'n_estimators': 20}\n",
      "0.9248 (+/-0.1858) hyperparameter for {'max_depth': None, 'n_estimators': 5}\n",
      "0.95 (+/-0.1594) hyperparameter for {'max_depth': None, 'n_estimators': 10}\n",
      "0.9416 (+/-0.1989) hyperparameter for {'max_depth': None, 'n_estimators': 15}\n",
      "0.9585 (+/-0.121) hyperparameter for {'max_depth': None, 'n_estimators': 20}\n"
     ]
    }
   ],
   "source": [
    "ran_forest = RandomForestClassifier()\n",
    "grid_parameters = {\n",
    "    \n",
    "    'n_estimators' : [5,10,15,20],\n",
    "    'max_depth' : [5,10,20,None]\n",
    "    \n",
    "    \n",
    "}\n",
    "\n",
    "grid_cv_rf2 = GridSearchCV(ran_forest,grid_parameters, cv=7)\n",
    "grid_cv_rf2.fit(X2_train, y2_train.values.ravel())\n",
    "\n",
    "print_hyperparameters(grid_cv_rf2)"
   ]
  },
  {
   "cell_type": "code",
   "execution_count": 383,
   "id": "74235d1d",
   "metadata": {},
   "outputs": [
    {
     "name": "stdout",
     "output_type": "stream",
     "text": [
      "optimal hyperparameter: {'max_depth': None, 'n_estimators': 20}\n",
      "Accuracy: 0.9584500466853408\n"
     ]
    }
   ],
   "source": [
    "print('optimal hyperparameter:',grid_cv_rf2.best_params_)\n",
    "print('Accuracy:', grid_cv_rf2.best_score_)"
   ]
  },
  {
   "cell_type": "code",
   "execution_count": 384,
   "id": "6df1d76a",
   "metadata": {},
   "outputs": [],
   "source": [
    "ran_forest.fit(X2_test,y2_test)\n",
    "prediction = ran_forest.predict(X2_test)"
   ]
  },
  {
   "cell_type": "code",
   "execution_count": 196,
   "id": "d9b5a6c1",
   "metadata": {},
   "outputs": [
    {
     "name": "stdout",
     "output_type": "stream",
     "text": [
      "Accuracy: 1.0\n"
     ]
    }
   ],
   "source": [
    "print(\"Accuracy:\", accuracy_score(y2_test,prediction))"
   ]
  },
  {
   "cell_type": "code",
   "execution_count": 385,
   "id": "5932fca0",
   "metadata": {},
   "outputs": [
    {
     "name": "stdout",
     "output_type": "stream",
     "text": [
      "Precision: 1.0\n"
     ]
    }
   ],
   "source": [
    "print(\"Precision:\", precision_score(y2_test,prediction,average= 'micro'))"
   ]
  },
  {
   "cell_type": "code",
   "execution_count": 386,
   "id": "03fc6214",
   "metadata": {},
   "outputs": [
    {
     "name": "stdout",
     "output_type": "stream",
     "text": [
      "Precision: 1.0\n"
     ]
    }
   ],
   "source": [
    "print(\"Precision:\", recall_score(y2_test,prediction,average= 'micro'))"
   ]
  },
  {
   "cell_type": "code",
   "execution_count": null,
   "id": "0cb73a6d",
   "metadata": {},
   "outputs": [],
   "source": [
    "\n",
    "\n",
    "Support Vector Machine\n",
    "\n"
   ]
  },
  {
   "cell_type": "code",
   "execution_count": 387,
   "id": "c5bd4319",
   "metadata": {},
   "outputs": [
    {
     "name": "stdout",
     "output_type": "stream",
     "text": [
      "optimal parameters are: {'C': 0.1, 'kernel': 'linear'}\n",
      "\n",
      "0.958 (+/-0.1212) hyperparameter for {'C': 0.1, 'kernel': 'linear'}\n",
      "0.8838 (+/-0.152) hyperparameter for {'C': 0.1, 'kernel': 'rbf'}\n",
      "0.958 (+/-0.1212) hyperparameter for {'C': 1, 'kernel': 'linear'}\n",
      "0.958 (+/-0.1629) hyperparameter for {'C': 1, 'kernel': 'rbf'}\n",
      "0.9496 (+/-0.1594) hyperparameter for {'C': 10, 'kernel': 'linear'}\n",
      "0.9416 (+/-0.1541) hyperparameter for {'C': 10, 'kernel': 'rbf'}\n"
     ]
    }
   ],
   "source": [
    "support_vector_machine1 = SVC()     #method for Support vector Machine\n",
    "svm_parameters = { \n",
    "    'kernel': ['linear', 'rbf'],\n",
    "    'C': [0.1, 1, 10]\n",
    "}\n",
    "\n",
    "grid_cv_svm2 = GridSearchCV(support_vector_machine1, svm_parameters, cv=7)\n",
    "grid_cv_svm2.fit(X2_train, y2_train.values.ravel())\n",
    "\n",
    "print_hyperparameters(grid_cv_svm2)"
   ]
  },
  {
   "cell_type": "code",
   "execution_count": 388,
   "id": "13c22081",
   "metadata": {},
   "outputs": [
    {
     "name": "stdout",
     "output_type": "stream",
     "text": [
      "Optimal hyperparameter: {'C': 0.1, 'kernel': 'linear'}\n",
      "Accuracy: 0.957983193277311\n"
     ]
    }
   ],
   "source": [
    "print('Optimal hyperparameter:',grid_cv_svm2.best_params_)\n",
    "print('Accuracy:', grid_cv_svm2.best_score_)"
   ]
  },
  {
   "cell_type": "code",
   "execution_count": 389,
   "id": "33cef16e",
   "metadata": {},
   "outputs": [],
   "source": [
    "support_vector_machine1.fit(X2_train,y2_train)\n",
    "prediction = support_vector_machine1.predict(X2_test)"
   ]
  },
  {
   "cell_type": "code",
   "execution_count": 391,
   "id": "370ceecb",
   "metadata": {},
   "outputs": [
    {
     "name": "stdout",
     "output_type": "stream",
     "text": [
      "1.0\n"
     ]
    }
   ],
   "source": [
    "Accuracy = accuracy_score(y2_test,prediction)\n",
    "print(Accuracy)"
   ]
  },
  {
   "cell_type": "code",
   "execution_count": 392,
   "id": "40f0f15a",
   "metadata": {},
   "outputs": [
    {
     "name": "stdout",
     "output_type": "stream",
     "text": [
      "1.0\n"
     ]
    }
   ],
   "source": [
    "Precision = precision_score(y2_test,prediction , average = \"micro\")\n",
    "print(Precision)"
   ]
  },
  {
   "cell_type": "code",
   "execution_count": 393,
   "id": "39730b33",
   "metadata": {},
   "outputs": [
    {
     "name": "stdout",
     "output_type": "stream",
     "text": [
      "1.0\n"
     ]
    }
   ],
   "source": [
    "Recall = recall_score(y2_test,prediction, average = \"micro\")\n",
    "print(Recall)"
   ]
  },
  {
   "cell_type": "markdown",
   "id": "06f42253",
   "metadata": {},
   "source": [
    "\n",
    "\n",
    "\n"
   ]
  }
 ],
 "metadata": {
  "kernelspec": {
   "display_name": "Python 3 (ipykernel)",
   "language": "python",
   "name": "python3"
  },
  "language_info": {
   "codemirror_mode": {
    "name": "ipython",
    "version": 3
   },
   "file_extension": ".py",
   "mimetype": "text/x-python",
   "name": "python",
   "nbconvert_exporter": "python",
   "pygments_lexer": "ipython3",
   "version": "3.9.12"
  }
 },
 "nbformat": 4,
 "nbformat_minor": 5
}
